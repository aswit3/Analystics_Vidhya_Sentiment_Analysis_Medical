{
  "nbformat": 4,
  "nbformat_minor": 0,
  "metadata": {
    "colab": {
      "name": "Twitter_Sentiment_Analysis_tensorflow.ipynb",
      "version": "0.3.2",
      "provenance": [],
      "include_colab_link": true
    },
    "kernelspec": {
      "name": "python3",
      "display_name": "Python 3"
    }
  },
  "cells": [
    {
      "cell_type": "markdown",
      "metadata": {
        "id": "view-in-github",
        "colab_type": "text"
      },
      "source": [
        "<a href=\"https://colab.research.google.com/github/aswit3/Analystics_Vidhya_Sentiment_Analysis_Medical/blob/master/Twitter_Sentiment_Analysis_tensorflow.ipynb\" target=\"_parent\"><img src=\"https://colab.research.google.com/assets/colab-badge.svg\" alt=\"Open In Colab\"/></a>"
      ]
    },
    {
      "cell_type": "markdown",
      "metadata": {
        "id": "KUevc8JVanQw",
        "colab_type": "text"
      },
      "source": [
        "**Twitter-Sentiment-Analysis**\n",
        "\n",
        "https://datahack.analyticsvidhya.com/contest/practice-problem-twitter-sentiment-analysis/\n",
        "\n"
      ]
    },
    {
      "cell_type": "code",
      "metadata": {
        "id": "GMA3MVC1wTSR",
        "colab_type": "code",
        "outputId": "0aa6823d-2545-412c-def8-e3b6faba4396",
        "colab": {
          "base_uri": "https://localhost:8080/",
          "height": 118
        }
      },
      "source": [
        "from google.colab import drive\n",
        "drive.mount('/content/drive')"
      ],
      "execution_count": 0,
      "outputs": [
        {
          "output_type": "stream",
          "text": [
            "Go to this URL in a browser: https://accounts.google.com/o/oauth2/auth?client_id=947318989803-6bn6qk8qdgf4n4g3pfee6491hc0brc4i.apps.googleusercontent.com&redirect_uri=urn%3Aietf%3Awg%3Aoauth%3A2.0%3Aoob&scope=email%20https%3A%2F%2Fwww.googleapis.com%2Fauth%2Fdocs.test%20https%3A%2F%2Fwww.googleapis.com%2Fauth%2Fdrive%20https%3A%2F%2Fwww.googleapis.com%2Fauth%2Fdrive.photos.readonly%20https%3A%2F%2Fwww.googleapis.com%2Fauth%2Fpeopleapi.readonly&response_type=code\n",
            "\n",
            "Enter your authorization code:\n",
            "··········\n",
            "Mounted at /content/drive\n"
          ],
          "name": "stdout"
        }
      ]
    },
    {
      "cell_type": "code",
      "metadata": {
        "id": "SL0g_dpOM4tM",
        "colab_type": "code",
        "colab": {}
      },
      "source": [
        "import re # for regular expressions\n",
        "import pandas as pd \n",
        "pd.set_option(\"display.max_colwidth\", 200)\n",
        "import numpy as np \n",
        "import matplotlib.pyplot as plt \n",
        "import seaborn as sns\n",
        "import string\n",
        "import nltk # for text manipulation\n",
        "import warnings \n",
        "warnings.filterwarnings(\"ignore\", category=DeprecationWarning)\n",
        "\n",
        "%matplotlib inline"
      ],
      "execution_count": 0,
      "outputs": []
    },
    {
      "cell_type": "code",
      "metadata": {
        "id": "VVVXZiQeNSFR",
        "colab_type": "code",
        "colab": {}
      },
      "source": [
        "train  = pd.read_csv(\"drive/My Drive/datasets/Twitter-Sentiment-Analysis/train_E6oV3lV.csv\") #/content/drive/My Drive/datasets/Twitter-Sentiment-Analysis/test_tweets_anuFYb8.csv\n",
        "test = pd.read_csv(\"drive/My Drive/datasets/Twitter-Sentiment-Analysis/test_tweets_anuFYb8.csv\")"
      ],
      "execution_count": 0,
      "outputs": []
    },
    {
      "cell_type": "code",
      "metadata": {
        "id": "cuD41l9bdSM4",
        "colab_type": "code",
        "outputId": "ca677411-b1c2-4743-99c5-fdeb9710635b",
        "colab": {
          "base_uri": "https://localhost:8080/",
          "height": 33
        }
      },
      "source": [
        "train.shape, test.shape"
      ],
      "execution_count": 0,
      "outputs": [
        {
          "output_type": "execute_result",
          "data": {
            "text/plain": [
              "((31962, 3), (17197, 2))"
            ]
          },
          "metadata": {
            "tags": []
          },
          "execution_count": 6
        }
      ]
    },
    {
      "cell_type": "code",
      "metadata": {
        "id": "9XF3R-oXhVwl",
        "colab_type": "code",
        "outputId": "6dd7216f-b19c-4ff3-841b-5f4115201bd7",
        "colab": {
          "base_uri": "https://localhost:8080/",
          "height": 66
        }
      },
      "source": [
        "train[\"label\"].value_counts()"
      ],
      "execution_count": 0,
      "outputs": [
        {
          "output_type": "execute_result",
          "data": {
            "text/plain": [
              "0    29720\n",
              "1     2242\n",
              "Name: label, dtype: int64"
            ]
          },
          "metadata": {
            "tags": []
          },
          "execution_count": 7
        }
      ]
    },
    {
      "cell_type": "code",
      "metadata": {
        "id": "BvfheWVUheIz",
        "colab_type": "code",
        "outputId": "2fd7f405-f106-48e3-8d64-2c85245af6ae",
        "colab": {
          "base_uri": "https://localhost:8080/",
          "height": 183
        }
      },
      "source": [
        "combi = train.append(test, ignore_index=True)\n",
        "combi.shape"
      ],
      "execution_count": 0,
      "outputs": [
        {
          "output_type": "stream",
          "text": [
            "/usr/local/lib/python3.6/dist-packages/pandas/core/frame.py:6692: FutureWarning: Sorting because non-concatenation axis is not aligned. A future version\n",
            "of pandas will change to not sort by default.\n",
            "\n",
            "To accept the future behavior, pass 'sort=False'.\n",
            "\n",
            "To retain the current behavior and silence the warning, pass 'sort=True'.\n",
            "\n",
            "  sort=sort)\n"
          ],
          "name": "stderr"
        },
        {
          "output_type": "execute_result",
          "data": {
            "text/plain": [
              "(49159, 3)"
            ]
          },
          "metadata": {
            "tags": []
          },
          "execution_count": 8
        }
      ]
    },
    {
      "cell_type": "code",
      "metadata": {
        "id": "sCSZBxGQhpia",
        "colab_type": "code",
        "colab": {}
      },
      "source": [
        "def remove_pattern(input_txt, pattern):\n",
        "    r = re.findall(pattern, input_txt)\n",
        "    for i in r:\n",
        "        input_txt = re.sub(i, '', input_txt)\n",
        "        \n",
        "    return input_txt"
      ],
      "execution_count": 0,
      "outputs": []
    },
    {
      "cell_type": "code",
      "metadata": {
        "id": "g-JmgxbqhvI2",
        "colab_type": "code",
        "colab": {}
      },
      "source": [
        "combi['tidy_tweet'] = np.vectorize(remove_pattern)(combi['tweet'], \"@[\\w]*\") \n",
        "#combi.head()"
      ],
      "execution_count": 0,
      "outputs": []
    },
    {
      "cell_type": "code",
      "metadata": {
        "id": "Fx99n1Jvh65S",
        "colab_type": "code",
        "colab": {}
      },
      "source": [
        "combi['tidy_tweet'] = combi['tidy_tweet'].str.replace(\"[^a-zA-Z#]\", \" \")\n",
        "#combi.head(10)"
      ],
      "execution_count": 0,
      "outputs": []
    },
    {
      "cell_type": "code",
      "metadata": {
        "id": "Pr_8rLt2iMKI",
        "colab_type": "code",
        "colab": {}
      },
      "source": [
        "combi['tidy_tweet'] = combi['tidy_tweet'].apply(lambda x: ' '.join([w for w in x.split() if len(w)>3]))"
      ],
      "execution_count": 0,
      "outputs": []
    },
    {
      "cell_type": "code",
      "metadata": {
        "id": "PCHBU4xNiiT6",
        "colab_type": "code",
        "colab": {}
      },
      "source": [
        "tokenized_tweet = combi['tidy_tweet'].apply(lambda x: x.split()) # tokenizing"
      ],
      "execution_count": 0,
      "outputs": []
    },
    {
      "cell_type": "code",
      "metadata": {
        "id": "0c6lil0iiyvJ",
        "colab_type": "code",
        "colab": {}
      },
      "source": [
        "from nltk.stem.porter import *\n",
        "stemmer = PorterStemmer()\n",
        "\n",
        "tokenized_tweet = tokenized_tweet.apply(lambda x: [stemmer.stem(i) for i in x]) # stemming"
      ],
      "execution_count": 0,
      "outputs": []
    },
    {
      "cell_type": "code",
      "metadata": {
        "id": "pGXOtd_li6_b",
        "colab_type": "code",
        "colab": {}
      },
      "source": [
        "for i in range(len(tokenized_tweet)):\n",
        "    tokenized_tweet[i] = ' '.join(tokenized_tweet[i])\n",
        "    \n",
        "combi['tidy_tweet'] = tokenized_tweet"
      ],
      "execution_count": 0,
      "outputs": []
    },
    {
      "cell_type": "code",
      "metadata": {
        "id": "USiQJZqIjFVs",
        "colab_type": "code",
        "outputId": "7e5656bf-4259-4afe-ff4e-41e7963d4c4f",
        "colab": {
          "base_uri": "https://localhost:8080/",
          "height": 33
        }
      },
      "source": [
        "combi['tidy_tweet'].shape"
      ],
      "execution_count": 0,
      "outputs": [
        {
          "output_type": "execute_result",
          "data": {
            "text/plain": [
              "(49159,)"
            ]
          },
          "metadata": {
            "tags": []
          },
          "execution_count": 16
        }
      ]
    },
    {
      "cell_type": "code",
      "metadata": {
        "id": "wfF6KRjdlxK5",
        "colab_type": "code",
        "colab": {}
      },
      "source": [
        "# function to collect hashtags\n",
        "def hashtag_extract(x):\n",
        "    hashtags = []\n",
        "    # Loop over the words in the tweet\n",
        "    for i in x:\n",
        "        ht = re.findall(r\"#(\\w+)\", i)\n",
        "        hashtags.append(ht)\n",
        "\n",
        "    return hashtags"
      ],
      "execution_count": 0,
      "outputs": []
    },
    {
      "cell_type": "code",
      "metadata": {
        "id": "etqCIAKPmRSR",
        "colab_type": "code",
        "outputId": "40c66a5c-8138-4d20-fca7-a2abde299bc1",
        "colab": {
          "base_uri": "https://localhost:8080/",
          "height": 33
        }
      },
      "source": [
        "# extracting hashtags from non racist/sexist tweets\n",
        "\n",
        "HT_regular = hashtag_extract(combi['tidy_tweet'][combi['label'] == 0])\n",
        "\n",
        "# extracting hashtags from racist/sexist tweets\n",
        "HT_negative = hashtag_extract(combi['tidy_tweet'][combi['label'] == 1])\n",
        "\n",
        "# unnesting list\n",
        "HT_regular = sum(HT_regular,[])\n",
        "HT_negative = sum(HT_negative,[])\n",
        "\n",
        "print(len(HT_regular), len(HT_negative))"
      ],
      "execution_count": 0,
      "outputs": [
        {
          "output_type": "stream",
          "text": [
            "68425 4616\n"
          ],
          "name": "stdout"
        }
      ]
    },
    {
      "cell_type": "code",
      "metadata": {
        "id": "AiC84jbym0Ry",
        "colab_type": "code",
        "colab": {}
      },
      "source": [
        "import gensim"
      ],
      "execution_count": 0,
      "outputs": []
    },
    {
      "cell_type": "code",
      "metadata": {
        "id": "vZNLpxTmnRV8",
        "colab_type": "code",
        "outputId": "c1fe1b33-8f0e-4535-8d4f-09033930bce8",
        "colab": {
          "base_uri": "https://localhost:8080/",
          "height": 33
        }
      },
      "source": [
        "tokenized_tweet = combi['tidy_tweet'].apply(lambda x: x.split()) # tokenizing\n",
        "\n",
        "model_w2v = gensim.models.Word2Vec(\n",
        "            tokenized_tweet,\n",
        "            size=200, # desired no. of features/independent variables \n",
        "            window=5, # context window size\n",
        "            min_count=2,\n",
        "            sg = 1, # 1 for skip-gram model\n",
        "            hs = 0,\n",
        "            negative = 10, # for negative sampling\n",
        "            workers= 2, # no.of cores\n",
        "            seed = 34)\n",
        "\n",
        "model_w2v.train(tokenized_tweet, total_examples= len(combi['tidy_tweet']), epochs=20)"
      ],
      "execution_count": 0,
      "outputs": [
        {
          "output_type": "execute_result",
          "data": {
            "text/plain": [
              "(6510028, 7536020)"
            ]
          },
          "metadata": {
            "tags": []
          },
          "execution_count": 20
        }
      ]
    },
    {
      "cell_type": "code",
      "metadata": {
        "id": "9XZzavCOoRgN",
        "colab_type": "code",
        "colab": {}
      },
      "source": [
        "def word_vector(tokens, size):\n",
        "    vec = np.zeros(size).reshape((1, size))\n",
        "    count = 0.\n",
        "    for word in tokens:\n",
        "        try:\n",
        "            vec += model_w2v[word].reshape((1, size))\n",
        "            count += 1.\n",
        "        except KeyError: # handling the case where the token is not in vocabulary\n",
        "                         \n",
        "            continue\n",
        "    \n",
        "    if count != 0:\n",
        "        vec /= count\n",
        "    \n",
        "    return vec\n"
      ],
      "execution_count": 0,
      "outputs": []
    },
    {
      "cell_type": "code",
      "metadata": {
        "id": "4LvQqkWyodTv",
        "colab_type": "code",
        "outputId": "45101c23-53db-4502-d5ad-60d699155116",
        "colab": {
          "base_uri": "https://localhost:8080/",
          "height": 33
        }
      },
      "source": [
        "wordvec_arrays = np.zeros((len(tokenized_tweet), 200))\n",
        "\n",
        "for i in range(len(tokenized_tweet)):\n",
        "    #print(tokenized_tweet[i])\n",
        "    wordvec_arrays[i,:] = word_vector(tokenized_tweet[i], 200)\n",
        "\n",
        "wordvec_df = pd.DataFrame(wordvec_arrays)\n",
        "wordvec_df.shape"
      ],
      "execution_count": 0,
      "outputs": [
        {
          "output_type": "execute_result",
          "data": {
            "text/plain": [
              "(49159, 200)"
            ]
          },
          "metadata": {
            "tags": []
          },
          "execution_count": 22
        }
      ]
    },
    {
      "cell_type": "code",
      "metadata": {
        "id": "0rselOnZvZcY",
        "colab_type": "code",
        "outputId": "efb5ed80-71da-4c51-de5a-00437c6a26b2",
        "colab": {
          "base_uri": "https://localhost:8080/",
          "height": 33
        }
      },
      "source": [
        "from sklearn.model_selection import train_test_split\n",
        "\n",
        "\n",
        "train_w2v = wordvec_df.iloc[:31962,:]\n",
        "test_w2v = wordvec_df.iloc[31962:,:]\n",
        "\n",
        "_, _, ytrain, yvalid = train_test_split(train_w2v, train['label'],  \n",
        "                                                          random_state=42, \n",
        "                                                          test_size=0.3)\n",
        "\n",
        "\n",
        "\n",
        "print(train_w2v.shape, train['label'].shape)\n",
        "\n",
        "X_train = train_w2v.to_numpy()\n",
        "Y_train = train['label'].to_numpy()"
      ],
      "execution_count": 0,
      "outputs": [
        {
          "output_type": "stream",
          "text": [
            "(31962, 200) (31962,)\n"
          ],
          "name": "stdout"
        }
      ]
    },
    {
      "cell_type": "code",
      "metadata": {
        "id": "Z5FKPRNCEf6X",
        "colab_type": "code",
        "colab": {}
      },
      "source": [
        "import numpy as np\n",
        "import tensorflow as tf\n",
        "n_inputs = 200\n",
        "n_neurons = 512\n",
        "n_timesteps = 2\n",
        "\n",
        "learning_rate = 0.001\n",
        "num_steps = 500\n",
        "\n",
        "n_hidden_1 = n_neurons\n",
        "n_hidden_2 = n_neurons\n",
        "num_classes = 2"
      ],
      "execution_count": 0,
      "outputs": []
    },
    {
      "cell_type": "code",
      "metadata": {
        "id": "fDRvdEzS9F7i",
        "colab_type": "code",
        "colab": {}
      },
      "source": [
        "no_of_samples = X_train.shape[0]\n",
        "\n",
        "EPOCHS = 10\n",
        "BATCH_SIZE = 2\n",
        "\n",
        "N_BATCHES = no_of_samples//BATCH_SIZE\n",
        "X_train = X_train.reshape(N_BATCHES, BATCH_SIZE, 200)\n",
        "Y_train = Y_train.reshape(N_BATCHES, BATCH_SIZE, 1)"
      ],
      "execution_count": 0,
      "outputs": []
    },
    {
      "cell_type": "code",
      "metadata": {
        "id": "NpmGcBvaGsuh",
        "colab_type": "code",
        "outputId": "0c5f7763-42af-443f-9cf8-3522038a4c18",
        "colab": {
          "base_uri": "https://localhost:8080/",
          "height": 33
        }
      },
      "source": [
        "X_train.shape, Y_train.shape"
      ],
      "execution_count": 0,
      "outputs": [
        {
          "output_type": "execute_result",
          "data": {
            "text/plain": [
              "((15981, 2, 200), (15981, 2, 1))"
            ]
          },
          "metadata": {
            "tags": []
          },
          "execution_count": 26
        }
      ]
    },
    {
      "cell_type": "code",
      "metadata": {
        "id": "qDlUbLsHEtd3",
        "colab_type": "code",
        "outputId": "306e5007-7cea-4695-8668-4c41d81fd980",
        "colab": {
          "base_uri": "https://localhost:8080/",
          "height": 180
        }
      },
      "source": [
        "X = tf.placeholder(tf.float32, [None, BATCH_SIZE, n_inputs])\n",
        "Y = tf.placeholder(tf.int32, [None, BATCH_SIZE, 1])\n",
        "\n",
        "def batch(iterable, input_batch, target_batch, n=1):\n",
        "    l = len(iterable)\n",
        "    for ndx in range(0, l, n):\n",
        "        yield input_batch[ndx:min(ndx + n, l)], target_batch[ndx:min(ndx + n, l)]\n",
        "        \n",
        "# Store layers weight & bias\n",
        "weights = {\n",
        "    'h1': tf.Variable(tf.random_normal([n_inputs, n_hidden_1])),\n",
        "    'h2': tf.Variable(tf.random_normal([n_hidden_1, n_hidden_2])),\n",
        "    'out': tf.Variable(tf.random_normal([n_hidden_2, num_classes]))\n",
        "}\n",
        "biases = {\n",
        "    'b1': tf.Variable(tf.random_normal([n_hidden_1])),\n",
        "    'b2': tf.Variable(tf.random_normal([n_hidden_2])),\n",
        "    'out': tf.Variable(tf.random_normal([num_classes]))\n",
        "}\n",
        "\n",
        "layer_1 = tf.add(tf.matmul(X, weights['h1']), biases['b1'])\n",
        "layer_2 = tf.add(tf.matmul(layer_1, weights['h2']), biases['b2'])\n",
        "outputs = tf.matmul(layer_2, weights['out']) + biases['out']\n",
        "\n",
        "loss_op = tf.reduce_mean(tf.nn.softmax_cross_entropy_with_logits_v2(logits=outputs, labels=Y))\n",
        "optimizer = tf.train.GradientDescentOptimizer(learning_rate=learning_rate)\n",
        "train_op = optimizer.minimize(loss_op)\n",
        "prediction = tf.nn.softmax(outputs)\n",
        "\n",
        "correct_pred = tf.equal(tf.argmax(prediction, 1), tf.argmax(Y, 1))\n",
        "accuracy = tf.reduce_mean(tf.cast(correct_pred, tf.float32))\n",
        "\n",
        "# Training\n",
        "init = tf.global_variables_initializer()\n",
        "sess = tf.Session()\n",
        "sess.run(init)\n",
        "\n",
        "for i in range(EPOCHS):\n",
        "  sess.run(outputs, feed_dict={X: X_train, Y:Y_train})\n",
        "  \n",
        "  for x, y in batch(range(0, N_BATCHES), X_train, Y_train, 3):\n",
        "    loss, acc = sess.run([loss_op, accuracy], feed_dict={X: x, Y:y})\n",
        "  print(loss, acc)"
      ],
      "execution_count": 0,
      "outputs": [
        {
          "output_type": "stream",
          "text": [
            "139.81657 0.8333333\n",
            "139.81657 0.8333333\n",
            "139.81657 0.8333333\n",
            "139.81657 0.8333333\n",
            "139.81657 0.8333333\n",
            "139.81657 0.8333333\n",
            "139.81657 0.8333333\n",
            "139.81657 0.8333333\n",
            "139.81657 0.8333333\n",
            "139.81657 0.8333333\n"
          ],
          "name": "stdout"
        }
      ]
    },
    {
      "cell_type": "code",
      "metadata": {
        "id": "3QaKePh9KmM6",
        "colab_type": "code",
        "colab": {}
      },
      "source": [
        "test_w2v = wordvec_df.iloc[31963:,:]\n",
        "test_w2v = test_w2v.to_numpy()\n",
        "test_w2v = test_w2v.reshape(test_w2v.shape[0]//BATCH_SIZE, BATCH_SIZE, 200)\n",
        "prediction = sess.run([prediction], feed_dict={X: test_w2v})\n",
        "\n",
        "#print(prediction, prediction.shape)\n",
        "# test['label'] = test_pred\n",
        "# submission = test[['id','label']]\n",
        "# submission.to_csv('model_result.csv', index=False)\n"
      ],
      "execution_count": 0,
      "outputs": []
    },
    {
      "cell_type": "code",
      "metadata": {
        "id": "gCgbxTH5MNPM",
        "colab_type": "code",
        "outputId": "606b19b2-70a6-4bde-b772-a48ac00fd72e",
        "colab": {
          "base_uri": "https://localhost:8080/",
          "height": 33
        }
      },
      "source": [
        "type(prediction)"
      ],
      "execution_count": 0,
      "outputs": [
        {
          "output_type": "execute_result",
          "data": {
            "text/plain": [
              "list"
            ]
          },
          "metadata": {
            "tags": []
          },
          "execution_count": 64
        }
      ]
    },
    {
      "cell_type": "code",
      "metadata": {
        "id": "iH_4Nbrkj1EW",
        "colab_type": "code",
        "outputId": "93b1ef2f-787a-42a1-f468-c90094ee96e6",
        "colab": {
          "base_uri": "https://localhost:8080/",
          "height": 326
        }
      },
      "source": [
        "prediction = np.array(prediction)\n",
        "prediction.shape, prediction"
      ],
      "execution_count": 0,
      "outputs": [
        {
          "output_type": "execute_result",
          "data": {
            "text/plain": [
              "((1, 8598, 2, 2), array([[[[1.0000000e+00, 1.0774032e-09],\n",
              "          [1.0000000e+00, 0.0000000e+00]],\n",
              " \n",
              "         [[0.0000000e+00, 1.0000000e+00],\n",
              "          [0.0000000e+00, 1.0000000e+00]],\n",
              " \n",
              "         [[0.0000000e+00, 1.0000000e+00],\n",
              "          [1.0000000e+00, 0.0000000e+00]],\n",
              " \n",
              "         ...,\n",
              " \n",
              "         [[0.0000000e+00, 1.0000000e+00],\n",
              "          [0.0000000e+00, 1.0000000e+00]],\n",
              " \n",
              "         [[1.0000000e+00, 0.0000000e+00],\n",
              "          [1.0000000e+00, 0.0000000e+00]],\n",
              " \n",
              "         [[0.0000000e+00, 1.0000000e+00],\n",
              "          [0.0000000e+00, 1.0000000e+00]]]], dtype=float32))"
            ]
          },
          "metadata": {
            "tags": []
          },
          "execution_count": 66
        }
      ]
    },
    {
      "cell_type": "code",
      "metadata": {
        "id": "5t4QEjHdkNHz",
        "colab_type": "code",
        "colab": {}
      },
      "source": [
        "prediction = prediction.reshape(17196,2)"
      ],
      "execution_count": 0,
      "outputs": []
    },
    {
      "cell_type": "code",
      "metadata": {
        "id": "-iizcF7dk6Zm",
        "colab_type": "code",
        "outputId": "f9a84fc7-e4ce-4d13-88b6-36d46c25099e",
        "colab": {
          "base_uri": "https://localhost:8080/",
          "height": 131
        }
      },
      "source": [
        "prediction.shape, prediction"
      ],
      "execution_count": 0,
      "outputs": [
        {
          "output_type": "execute_result",
          "data": {
            "text/plain": [
              "((17196, 2), array([[1.0000000e+00, 1.0774032e-09],\n",
              "        [1.0000000e+00, 0.0000000e+00],\n",
              "        [0.0000000e+00, 1.0000000e+00],\n",
              "        ...,\n",
              "        [1.0000000e+00, 0.0000000e+00],\n",
              "        [0.0000000e+00, 1.0000000e+00],\n",
              "        [0.0000000e+00, 1.0000000e+00]], dtype=float32))"
            ]
          },
          "metadata": {
            "tags": []
          },
          "execution_count": 68
        }
      ]
    },
    {
      "cell_type": "code",
      "metadata": {
        "id": "R2lVlX-sk_4v",
        "colab_type": "code",
        "colab": {}
      },
      "source": [
        "prediction = prediction.argmax(axis = -1)"
      ],
      "execution_count": 0,
      "outputs": []
    },
    {
      "cell_type": "code",
      "metadata": {
        "id": "zywJXU5hlT1l",
        "colab_type": "code",
        "outputId": "fd594ee6-0b9c-4672-837a-f7cdd359f69b",
        "colab": {
          "base_uri": "https://localhost:8080/",
          "height": 33
        }
      },
      "source": [
        "prediction.shape"
      ],
      "execution_count": 0,
      "outputs": [
        {
          "output_type": "execute_result",
          "data": {
            "text/plain": [
              "()"
            ]
          },
          "metadata": {
            "tags": []
          },
          "execution_count": 58
        }
      ]
    },
    {
      "cell_type": "code",
      "metadata": {
        "id": "-ub3ffH8lWFs",
        "colab_type": "code",
        "colab": {}
      },
      "source": [
        ""
      ],
      "execution_count": 0,
      "outputs": []
    }
  ]
}